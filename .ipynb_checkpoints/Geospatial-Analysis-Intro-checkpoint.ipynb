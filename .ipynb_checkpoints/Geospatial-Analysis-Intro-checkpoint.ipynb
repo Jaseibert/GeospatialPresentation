{
 "cells": [
  {
   "cell_type": "markdown",
   "metadata": {},
   "source": [
    "# GeoPandas Intro\n",
    "\n",
    "## Learning Objective's\n",
    "\n",
    "1. Read & Write Geospatial Files"
   ]
  },
  {
   "cell_type": "code",
   "execution_count": 2,
   "metadata": {
    "collapsed": true
   },
   "outputs": [],
   "source": [
    "import pandas as pd\n",
    "import osmnx as ox\n",
    "import geopandas as gp\n",
    "from shapely.geometry import Point, Polygon\n",
    "import fiona\n",
    "\n",
    "pd.options.display.max_rows = 10\n",
    "%matplotlib inline"
   ]
  },
  {
   "cell_type": "markdown",
   "metadata": {},
   "source": [
    "## Read and Write GeoSpatial files\n",
    "\n",
    "Geopandas has the capabilities to read several different GIS file formats. It does this by utilizing the fiona library imported above.\n",
    "\n",
    "#### The GIS File format used in GeoPandas is:\n",
    "\n",
    "* *GeoJSON *(.geoJSON)\n",
    "* *Shapefile's *(.shp)\n",
    "\n",
    "#### Files Chosen: \n",
    "* *Chatanooga Bike Share Data *(Point) (.geoJSON)\n",
    "* *United States Metropolitian Areas Data *(Polygonal) (.geoJSON)"
   ]
  },
  {
   "cell_type": "code",
   "execution_count": 139,
   "metadata": {
    "collapsed": true
   },
   "outputs": [],
   "source": [
    "#Read in the geojson files for GeoPandas (Points)\n",
    "bike_stations = gp.read_file(\"/Users/Jaseibert/dev/Geospatial_Presentation/Chattanooga_BikeStations.geojson\")"
   ]
  },
  {
   "cell_type": "code",
   "execution_count": 140,
   "metadata": {},
   "outputs": [
    {
     "data": {
      "text/html": [
       "<div>\n",
       "<style scoped>\n",
       "    .dataframe tbody tr th:only-of-type {\n",
       "        vertical-align: middle;\n",
       "    }\n",
       "\n",
       "    .dataframe tbody tr th {\n",
       "        vertical-align: top;\n",
       "    }\n",
       "\n",
       "    .dataframe thead th {\n",
       "        text-align: right;\n",
       "    }\n",
       "</style>\n",
       "<table border=\"1\" class=\"dataframe\">\n",
       "  <thead>\n",
       "    <tr style=\"text-align: right;\">\n",
       "      <th></th>\n",
       "      <th>station_id</th>\n",
       "      <th>name</th>\n",
       "      <th>address</th>\n",
       "      <th>bike_capacity</th>\n",
       "      <th>geometry</th>\n",
       "    </tr>\n",
       "  </thead>\n",
       "  <tbody>\n",
       "    <tr>\n",
       "      <th>0</th>\n",
       "      <td>1297</td>\n",
       "      <td>100 Manufacturers Rd</td>\n",
       "      <td>100 Manufacturers Rd</td>\n",
       "      <td>19</td>\n",
       "      <td>POINT (-85.310469 35.063014)</td>\n",
       "    </tr>\n",
       "    <tr>\n",
       "      <th>1</th>\n",
       "      <td>1299</td>\n",
       "      <td>200 River St Outdoor Chattanooga</td>\n",
       "      <td>200 River St</td>\n",
       "      <td>25</td>\n",
       "      <td>POINT (-85.306574 35.06141)</td>\n",
       "    </tr>\n",
       "    <tr>\n",
       "      <th>2</th>\n",
       "      <td>1301</td>\n",
       "      <td>301 Manufacturers Rd</td>\n",
       "      <td>301 Manufacturers Rd</td>\n",
       "      <td>15</td>\n",
       "      <td>POINT (-85.31521100000001 35.063304)</td>\n",
       "    </tr>\n",
       "    <tr>\n",
       "      <th>3</th>\n",
       "      <td>1303</td>\n",
       "      <td>215 Broad St</td>\n",
       "      <td>215 Broad St</td>\n",
       "      <td>19</td>\n",
       "      <td>POINT (-85.310925 35.053928)</td>\n",
       "    </tr>\n",
       "    <tr>\n",
       "      <th>4</th>\n",
       "      <td>1305</td>\n",
       "      <td>Market St &amp; E 14th St</td>\n",
       "      <td>Market St &amp; E 14th St</td>\n",
       "      <td>19</td>\n",
       "      <td>POINT (-85.30726900000001 35.036904)</td>\n",
       "    </tr>\n",
       "  </tbody>\n",
       "</table>\n",
       "</div>"
      ],
      "text/plain": [
       "   station_id                              name                address  \\\n",
       "0        1297              100 Manufacturers Rd   100 Manufacturers Rd   \n",
       "1        1299  200 River St Outdoor Chattanooga           200 River St   \n",
       "2        1301              301 Manufacturers Rd   301 Manufacturers Rd   \n",
       "3        1303                      215 Broad St           215 Broad St   \n",
       "4        1305             Market St & E 14th St  Market St & E 14th St   \n",
       "\n",
       "   bike_capacity                              geometry  \n",
       "0             19          POINT (-85.310469 35.063014)  \n",
       "1             25           POINT (-85.306574 35.06141)  \n",
       "2             15  POINT (-85.31521100000001 35.063304)  \n",
       "3             19          POINT (-85.310925 35.053928)  \n",
       "4             19  POINT (-85.30726900000001 35.036904)  "
      ]
     },
     "execution_count": 140,
     "metadata": {},
     "output_type": "execute_result"
    }
   ],
   "source": [
    "#What does the Chattannooga Dataset look like?\n",
    "bike_stations.head()"
   ]
  },
  {
   "cell_type": "code",
   "execution_count": 141,
   "metadata": {
    "collapsed": true
   },
   "outputs": [],
   "source": [
    "#Read in the geojson files for GeoPandas (Polygons)\n",
    "Metro_Areas = gp.read_file(\"/Users/Jaseibert/dev/Geospatial_Presentation/MetroAreas.json\")"
   ]
  },
  {
   "cell_type": "code",
   "execution_count": 142,
   "metadata": {},
   "outputs": [
    {
     "data": {
      "text/html": [
       "<div>\n",
       "<style scoped>\n",
       "    .dataframe tbody tr th:only-of-type {\n",
       "        vertical-align: middle;\n",
       "    }\n",
       "\n",
       "    .dataframe tbody tr th {\n",
       "        vertical-align: top;\n",
       "    }\n",
       "\n",
       "    .dataframe thead th {\n",
       "        text-align: right;\n",
       "    }\n",
       "</style>\n",
       "<table border=\"1\" class=\"dataframe\">\n",
       "  <thead>\n",
       "    <tr style=\"text-align: right;\">\n",
       "      <th></th>\n",
       "      <th>CSAFP</th>\n",
       "      <th>CBSAFP</th>\n",
       "      <th>AFFGEOID</th>\n",
       "      <th>GEOID</th>\n",
       "      <th>NAME</th>\n",
       "      <th>LSAD</th>\n",
       "      <th>ALAND</th>\n",
       "      <th>AWATER</th>\n",
       "      <th>geometry</th>\n",
       "    </tr>\n",
       "  </thead>\n",
       "  <tbody>\n",
       "    <tr>\n",
       "      <th>0</th>\n",
       "      <td></td>\n",
       "      <td>43620</td>\n",
       "      <td>310M300US43620</td>\n",
       "      <td>43620</td>\n",
       "      <td>Sioux Falls, SD</td>\n",
       "      <td>M1</td>\n",
       "      <td>6670244321</td>\n",
       "      <td>27912960</td>\n",
       "      <td>POLYGON ((-97.60851699999999 43.849059, -97.55...</td>\n",
       "    </tr>\n",
       "    <tr>\n",
       "      <th>1</th>\n",
       "      <td>357</td>\n",
       "      <td>12660</td>\n",
       "      <td>310M300US12660</td>\n",
       "      <td>12660</td>\n",
       "      <td>Baraboo, WI</td>\n",
       "      <td>M2</td>\n",
       "      <td>2153665639</td>\n",
       "      <td>45713371</td>\n",
       "      <td>POLYGON ((-89.785809 43.641049, -89.7829349999...</td>\n",
       "    </tr>\n",
       "    <tr>\n",
       "      <th>2</th>\n",
       "      <td></td>\n",
       "      <td>40220</td>\n",
       "      <td>310M300US40220</td>\n",
       "      <td>40220</td>\n",
       "      <td>Roanoke, VA</td>\n",
       "      <td>M1</td>\n",
       "      <td>4836707818</td>\n",
       "      <td>72498836</td>\n",
       "      <td>POLYGON ((-79.498699 37.532797, -79.5028559999...</td>\n",
       "    </tr>\n",
       "    <tr>\n",
       "      <th>3</th>\n",
       "      <td></td>\n",
       "      <td>48660</td>\n",
       "      <td>310M300US48660</td>\n",
       "      <td>48660</td>\n",
       "      <td>Wichita Falls, TX</td>\n",
       "      <td>M1</td>\n",
       "      <td>6784787155</td>\n",
       "      <td>144176388</td>\n",
       "      <td>POLYGON ((-98.95308799999999 33.834, -98.95308...</td>\n",
       "    </tr>\n",
       "    <tr>\n",
       "      <th>4</th>\n",
       "      <td>290</td>\n",
       "      <td>22840</td>\n",
       "      <td>310M300US22840</td>\n",
       "      <td>22840</td>\n",
       "      <td>Fort Payne, AL</td>\n",
       "      <td>M2</td>\n",
       "      <td>2012676476</td>\n",
       "      <td>4121538</td>\n",
       "      <td>POLYGON ((-86.057712 34.475994, -86.0557209999...</td>\n",
       "    </tr>\n",
       "  </tbody>\n",
       "</table>\n",
       "</div>"
      ],
      "text/plain": [
       "  CSAFP CBSAFP        AFFGEOID  GEOID               NAME LSAD       ALAND  \\\n",
       "0        43620  310M300US43620  43620    Sioux Falls, SD   M1  6670244321   \n",
       "1   357  12660  310M300US12660  12660        Baraboo, WI   M2  2153665639   \n",
       "2        40220  310M300US40220  40220        Roanoke, VA   M1  4836707818   \n",
       "3        48660  310M300US48660  48660  Wichita Falls, TX   M1  6784787155   \n",
       "4   290  22840  310M300US22840  22840     Fort Payne, AL   M2  2012676476   \n",
       "\n",
       "      AWATER                                           geometry  \n",
       "0   27912960  POLYGON ((-97.60851699999999 43.849059, -97.55...  \n",
       "1   45713371  POLYGON ((-89.785809 43.641049, -89.7829349999...  \n",
       "2   72498836  POLYGON ((-79.498699 37.532797, -79.5028559999...  \n",
       "3  144176388  POLYGON ((-98.95308799999999 33.834, -98.95308...  \n",
       "4    4121538  POLYGON ((-86.057712 34.475994, -86.0557209999...  "
      ]
     },
     "execution_count": 142,
     "metadata": {},
     "output_type": "execute_result"
    }
   ],
   "source": [
    "#What does the Metro Dataset look like?\n",
    "Metro_Areas.head()"
   ]
  },
  {
   "cell_type": "markdown",
   "metadata": {},
   "source": [
    "## Geometric & Data Classifications "
   ]
  },
  {
   "cell_type": "code",
   "execution_count": 143,
   "metadata": {},
   "outputs": [
    {
     "data": {
      "text/plain": [
       "geopandas.geodataframe.GeoDataFrame"
      ]
     },
     "execution_count": 143,
     "metadata": {},
     "output_type": "execute_result"
    }
   ],
   "source": [
    "#The DataFrame \"bike_stations\" is classified as a GeoDataFrame\n",
    "type(bike_stations)"
   ]
  },
  {
   "cell_type": "code",
   "execution_count": 144,
   "metadata": {},
   "outputs": [
    {
     "data": {
      "text/plain": [
       "0             POINT (-85.310469 35.063014)\n",
       "1              POINT (-85.306574 35.06141)\n",
       "2     POINT (-85.31521100000001 35.063304)\n",
       "3             POINT (-85.310925 35.053928)\n",
       "4     POINT (-85.30726900000001 35.036904)\n",
       "                      ...                 \n",
       "33            POINT (-85.323739 35.050405)\n",
       "34    POINT (-85.27403099999999 35.065416)\n",
       "35            POINT (-85.301804 35.043238)\n",
       "36            POINT (-85.324018 35.019621)\n",
       "37            POINT (-85.313087 35.047222)\n",
       "Name: geometry, Length: 38, dtype: object"
      ]
     },
     "execution_count": 144,
     "metadata": {},
     "output_type": "execute_result"
    }
   ],
   "source": [
    "#What is the structure of the \"Point-type\" geometric variable within the DataFrame\n",
    "bike_stations.geometry"
   ]
  },
  {
   "cell_type": "code",
   "execution_count": 145,
   "metadata": {},
   "outputs": [
    {
     "data": {
      "text/plain": [
       "shapely.geometry.point.Point"
      ]
     },
     "execution_count": 145,
     "metadata": {},
     "output_type": "execute_result"
    }
   ],
   "source": [
    "#What is the type characterization of this geometic variable (Point, Polygon, or Linestring)\n",
    "#Uses Shapely to define the Geometric variables\n",
    "type(bike_stations.geometry[0])"
   ]
  },
  {
   "cell_type": "markdown",
   "metadata": {},
   "source": [
    "## Statistical Analysis"
   ]
  },
  {
   "cell_type": "code",
   "execution_count": 146,
   "metadata": {},
   "outputs": [
    {
     "data": {
      "text/html": [
       "<div>\n",
       "<style scoped>\n",
       "    .dataframe tbody tr th:only-of-type {\n",
       "        vertical-align: middle;\n",
       "    }\n",
       "\n",
       "    .dataframe tbody tr th {\n",
       "        vertical-align: top;\n",
       "    }\n",
       "\n",
       "    .dataframe thead th {\n",
       "        text-align: right;\n",
       "    }\n",
       "</style>\n",
       "<table border=\"1\" class=\"dataframe\">\n",
       "  <thead>\n",
       "    <tr style=\"text-align: right;\">\n",
       "      <th></th>\n",
       "      <th>station_id</th>\n",
       "      <th>name</th>\n",
       "      <th>address</th>\n",
       "      <th>bike_capacity</th>\n",
       "      <th>geometry</th>\n",
       "    </tr>\n",
       "  </thead>\n",
       "  <tbody>\n",
       "    <tr>\n",
       "      <th>0</th>\n",
       "      <td>True</td>\n",
       "      <td>True</td>\n",
       "      <td>True</td>\n",
       "      <td>True</td>\n",
       "      <td>True</td>\n",
       "    </tr>\n",
       "    <tr>\n",
       "      <th>1</th>\n",
       "      <td>True</td>\n",
       "      <td>True</td>\n",
       "      <td>True</td>\n",
       "      <td>True</td>\n",
       "      <td>True</td>\n",
       "    </tr>\n",
       "    <tr>\n",
       "      <th>2</th>\n",
       "      <td>True</td>\n",
       "      <td>True</td>\n",
       "      <td>True</td>\n",
       "      <td>True</td>\n",
       "      <td>True</td>\n",
       "    </tr>\n",
       "    <tr>\n",
       "      <th>3</th>\n",
       "      <td>True</td>\n",
       "      <td>True</td>\n",
       "      <td>True</td>\n",
       "      <td>True</td>\n",
       "      <td>True</td>\n",
       "    </tr>\n",
       "    <tr>\n",
       "      <th>4</th>\n",
       "      <td>True</td>\n",
       "      <td>True</td>\n",
       "      <td>True</td>\n",
       "      <td>True</td>\n",
       "      <td>True</td>\n",
       "    </tr>\n",
       "    <tr>\n",
       "      <th>...</th>\n",
       "      <td>...</td>\n",
       "      <td>...</td>\n",
       "      <td>...</td>\n",
       "      <td>...</td>\n",
       "      <td>...</td>\n",
       "    </tr>\n",
       "    <tr>\n",
       "      <th>33</th>\n",
       "      <td>True</td>\n",
       "      <td>True</td>\n",
       "      <td>True</td>\n",
       "      <td>True</td>\n",
       "      <td>True</td>\n",
       "    </tr>\n",
       "    <tr>\n",
       "      <th>34</th>\n",
       "      <td>True</td>\n",
       "      <td>True</td>\n",
       "      <td>True</td>\n",
       "      <td>True</td>\n",
       "      <td>True</td>\n",
       "    </tr>\n",
       "    <tr>\n",
       "      <th>35</th>\n",
       "      <td>True</td>\n",
       "      <td>True</td>\n",
       "      <td>True</td>\n",
       "      <td>True</td>\n",
       "      <td>True</td>\n",
       "    </tr>\n",
       "    <tr>\n",
       "      <th>36</th>\n",
       "      <td>True</td>\n",
       "      <td>True</td>\n",
       "      <td>True</td>\n",
       "      <td>True</td>\n",
       "      <td>True</td>\n",
       "    </tr>\n",
       "    <tr>\n",
       "      <th>37</th>\n",
       "      <td>True</td>\n",
       "      <td>True</td>\n",
       "      <td>True</td>\n",
       "      <td>True</td>\n",
       "      <td>True</td>\n",
       "    </tr>\n",
       "  </tbody>\n",
       "</table>\n",
       "<p>38 rows × 5 columns</p>\n",
       "</div>"
      ],
      "text/plain": [
       "    station_id  name  address  bike_capacity  geometry\n",
       "0         True  True     True           True      True\n",
       "1         True  True     True           True      True\n",
       "2         True  True     True           True      True\n",
       "3         True  True     True           True      True\n",
       "4         True  True     True           True      True\n",
       "..         ...   ...      ...            ...       ...\n",
       "33        True  True     True           True      True\n",
       "34        True  True     True           True      True\n",
       "35        True  True     True           True      True\n",
       "36        True  True     True           True      True\n",
       "37        True  True     True           True      True\n",
       "\n",
       "[38 rows x 5 columns]"
      ]
     },
     "execution_count": 146,
     "metadata": {},
     "output_type": "execute_result"
    }
   ],
   "source": [
    "bike_stations.notnull()"
   ]
  },
  {
   "cell_type": "code",
   "execution_count": 147,
   "metadata": {},
   "outputs": [
    {
     "data": {
      "text/plain": [
       "station_id       100.0\n",
       "name             100.0\n",
       "address          100.0\n",
       "bike_capacity    100.0\n",
       "geometry         100.0\n",
       "dtype: float64"
      ]
     },
     "execution_count": 147,
     "metadata": {},
     "output_type": "execute_result"
    }
   ],
   "source": [
    "#Define the relative % of non-null values\n",
    "bike_stations.notnull().sum() *100/ bike_stations.shape[0]"
   ]
  },
  {
   "cell_type": "code",
   "execution_count": 148,
   "metadata": {},
   "outputs": [
    {
     "data": {
      "text/plain": [
       "<matplotlib.axes._subplots.AxesSubplot at 0x125ca9c88>"
      ]
     },
     "execution_count": 148,
     "metadata": {},
     "output_type": "execute_result"
    },
    {
     "data": {
      "image/png": "[encoded data removed]",
      "text/plain": [
       "<Figure size 432x288 with 1 Axes>"
      ]
     },
     "metadata": {},
     "output_type": "display_data"
    }
   ],
   "source": [
    "bike_stations['bike_capacity'].hist()"
   ]
  },
  {
   "cell_type": "code",
   "execution_count": 149,
   "metadata": {},
   "outputs": [
    {
     "data": {
      "text/plain": [
       "0      0.745438\n",
       "1      0.244471\n",
       "2      0.498821\n",
       "3      0.674262\n",
       "4      0.197868\n",
       "         ...   \n",
       "940    0.736616\n",
       "941    0.066070\n",
       "942    0.163277\n",
       "943    0.204123\n",
       "944    0.377751\n",
       "Length: 945, dtype: float64"
      ]
     },
     "execution_count": 149,
     "metadata": {},
     "output_type": "execute_result"
    }
   ],
   "source": [
    "Metro_Areas.geometry.area"
   ]
  },
  {
   "cell_type": "markdown",
   "metadata": {},
   "source": [
    "## Coordinate Reference Systems"
   ]
  },
  {
   "cell_type": "code",
   "execution_count": 150,
   "metadata": {},
   "outputs": [
    {
     "data": {
      "text/plain": [
       "{'init': 'epsg:4326'}"
      ]
     },
     "execution_count": 150,
     "metadata": {},
     "output_type": "execute_result"
    }
   ],
   "source": [
    "# What type of Coordinate Reference System are we using?\n",
    "bike_stations.crs"
   ]
  },
  {
   "cell_type": "code",
   "execution_count": 151,
   "metadata": {},
   "outputs": [
    {
     "data": {
      "text/plain": [
       "0            POINT (-85.310469 35.063014)\n",
       "1             POINT (-85.306574 35.06141)\n",
       "2    POINT (-85.31521100000001 35.063304)\n",
       "3            POINT (-85.310925 35.053928)\n",
       "4    POINT (-85.30726900000001 35.036904)\n",
       "Name: geometry, dtype: object"
      ]
     },
     "execution_count": 151,
     "metadata": {},
     "output_type": "execute_result"
    }
   ],
   "source": [
    "# What do the geometric objects look like?\n",
    "bike_stations.geometry.head(5)"
   ]
  },
  {
   "cell_type": "code",
   "execution_count": 152,
   "metadata": {
    "collapsed": true
   },
   "outputs": [],
   "source": [
    "# Define a new variable to hold an alternate WGS84 Datum which uses \"Kilometers\" as the units of Measurement\n",
    "bike_stations2 = bike_stations.to_crs(\"+proj=utm +zone=31 +ellps=WGS84 +datum=WGS84 +units=km +no_defs \")"
   ]
  },
  {
   "cell_type": "code",
   "execution_count": 153,
   "metadata": {},
   "outputs": [
    {
     "data": {
      "text/plain": [
       "0      POINT (-6836.12785484971 9731.20083476883)\n",
       "1    POINT (-6836.404152988638 9730.571035281266)\n",
       "2    POINT (-6836.110236822123 9731.951319575694)\n",
       "3    POINT (-6837.874027102133 9731.184074963834)\n",
       "4    POINT (-6841.110518607886 9730.440880373744)\n",
       "Name: geometry, dtype: object"
      ]
     },
     "execution_count": 153,
     "metadata": {},
     "output_type": "execute_result"
    }
   ],
   "source": [
    "bike_stations2.geometry.head(5)"
   ]
  },
  {
   "cell_type": "code",
   "execution_count": 154,
   "metadata": {},
   "outputs": [
    {
     "name": "stdout",
     "output_type": "stream",
     "text": [
      "POINT (-87.571961720803 37.9712424718325)\n"
     ]
    }
   ],
   "source": [
    "from geopy.geocoders import Nominatim\n",
    "geolocator = Nominatim(scheme='http')\n",
    "location = geolocator.geocode(\"318 main street Evansville Indiana\")\n",
    "InnovationPointe = Point(location.longitude, location.latitude)\n",
    "print(InnovationPointe)"
   ]
  },
  {
   "cell_type": "code",
   "execution_count": 155,
   "metadata": {},
   "outputs": [
    {
     "data": {
      "text/html": [
       "<div>\n",
       "<style scoped>\n",
       "    .dataframe tbody tr th:only-of-type {\n",
       "        vertical-align: middle;\n",
       "    }\n",
       "\n",
       "    .dataframe tbody tr th {\n",
       "        vertical-align: top;\n",
       "    }\n",
       "\n",
       "    .dataframe thead th {\n",
       "        text-align: right;\n",
       "    }\n",
       "</style>\n",
       "<table border=\"1\" class=\"dataframe\">\n",
       "  <thead>\n",
       "    <tr style=\"text-align: right;\">\n",
       "      <th></th>\n",
       "      <th>CSAFP</th>\n",
       "      <th>CBSAFP</th>\n",
       "      <th>AFFGEOID</th>\n",
       "      <th>GEOID</th>\n",
       "      <th>NAME</th>\n",
       "      <th>LSAD</th>\n",
       "      <th>ALAND</th>\n",
       "      <th>AWATER</th>\n",
       "      <th>geometry</th>\n",
       "    </tr>\n",
       "  </thead>\n",
       "  <tbody>\n",
       "    <tr>\n",
       "      <th>13</th>\n",
       "      <td></td>\n",
       "      <td>21780</td>\n",
       "      <td>310M300US21780</td>\n",
       "      <td>21780</td>\n",
       "      <td>Evansville, IN-KY</td>\n",
       "      <td>M1</td>\n",
       "      <td>3793163206</td>\n",
       "      <td>125457459</td>\n",
       "      <td>POLYGON ((-87.31689299999999 38.246077, -87.29...</td>\n",
       "    </tr>\n",
       "  </tbody>\n",
       "</table>\n",
       "</div>"
      ],
      "text/plain": [
       "   CSAFP CBSAFP        AFFGEOID  GEOID               NAME LSAD       ALAND  \\\n",
       "13        21780  310M300US21780  21780  Evansville, IN-KY   M1  3793163206   \n",
       "\n",
       "       AWATER                                           geometry  \n",
       "13  125457459  POLYGON ((-87.31689299999999 38.246077, -87.29...  "
      ]
     },
     "execution_count": 155,
     "metadata": {},
     "output_type": "execute_result"
    }
   ],
   "source": [
    "#Verify and Check that Innovation Pointe is in the correct Metro Area\n",
    "Metro_Areas[Metro_Areas.contains(InnovationPointe)]"
   ]
  },
  {
   "cell_type": "code",
   "execution_count": 156,
   "metadata": {},
   "outputs": [
    {
     "data": {
      "text/plain": [
       "0     3.684039\n",
       "1     3.687697\n",
       "2     3.680901\n",
       "3     3.690936\n",
       "4     3.706639\n",
       "        ...   \n",
       "33    3.685892\n",
       "34    3.704634\n",
       "35    3.704973\n",
       "36    3.710164\n",
       "37    3.694917\n",
       "Length: 38, dtype: float64"
      ]
     },
     "execution_count": 156,
     "metadata": {},
     "output_type": "execute_result"
    }
   ],
   "source": [
    "#The distance in degrees from Innovation Pointe to the Bike Share Stations\n",
    "bike_stations.geometry.distance(InnovationPointe)"
   ]
  },
  {
   "cell_type": "markdown",
   "metadata": {},
   "source": [
    "# Visualize your Geospatial Data (GeoPandas)"
   ]
  },
  {
   "cell_type": "code",
   "execution_count": 157,
   "metadata": {},
   "outputs": [
    {
     "data": {
      "text/plain": [
       "<matplotlib.axes._subplots.AxesSubplot at 0x11ad13ac8>"
      ]
     },
     "execution_count": 157,
     "metadata": {},
     "output_type": "execute_result"
    },
    {
     "data": {
      "image/png": "[encoded data removed]",
      "text/plain": [
       "<Figure size 720x720 with 1 Axes>"
      ]
     },
     "metadata": {},
     "output_type": "display_data"
    }
   ],
   "source": [
    "Metro_Areas.plot(figsize=(10,10))"
   ]
  },
  {
   "cell_type": "code",
   "execution_count": 158,
   "metadata": {},
   "outputs": [
    {
     "data": {
      "image/png": "[encoded data removed]",
      "text/plain": [
       "<Figure size 720x720 with 1 Axes>"
      ]
     },
     "metadata": {},
     "output_type": "display_data"
    }
   ],
   "source": [
    "color = Metro_Areas.plot(figsize=(10,10), cmap = 'tab10', alpha=0.5)\n",
    "color.set_axis_off()"
   ]
  },
  {
   "cell_type": "code",
   "execution_count": 159,
   "metadata": {},
   "outputs": [
    {
     "data": {
      "image/png": "[encoded data removed]",
      "text/plain": [
       "<Figure size 720x720 with 1 Axes>"
      ]
     },
     "metadata": {},
     "output_type": "display_data"
    }
   ],
   "source": [
    "color = Metro_Areas.plot(figsize=(10,10), edgecolor='r', facecolor='b', alpha=0.5, linewidth = 0.5)\n",
    "color.set_axis_off()"
   ]
  },
  {
   "cell_type": "code",
   "execution_count": null,
   "metadata": {},
   "outputs": [
    {
     "data": {
      "text/plain": [
       "<matplotlib.axes._subplots.AxesSubplot at 0x11adac128>"
      ]
     },
     "execution_count": 160,
     "metadata": {},
     "output_type": "execute_result"
    },
    {
     "data": {
      "image/png": "[encoded data removed]",
      "text/plain": [
       "<Figure size 720x720 with 1 Axes>"
      ]
     },
     "metadata": {},
     "output_type": "display_data"
    }
   ],
   "source": [
    "bike_stations.plot(markersize=5,figsize=(10,10))"
   ]
  },
  {
   "cell_type": "code",
   "execution_count": null,
   "metadata": {
    "collapsed": true
   },
   "outputs": [],
   "source": [
    "Chattanooga = ox.graph_from_place('Chattanooga, United States', network_type='drive')\n",
    "ox.save_graph_shapefile(Chattanooga, 'openstreetmap_Chat', folder='.')"
   ]
  },
  {
   "cell_type": "code",
   "execution_count": null,
   "metadata": {
    "collapsed": true
   },
   "outputs": [],
   "source": [
    "streets = gp.read_file(\"openstreetmap_Chat/edges/\")"
   ]
  },
  {
   "cell_type": "code",
   "execution_count": null,
   "metadata": {},
   "outputs": [],
   "source": [
    "streets.head()"
   ]
  },
  {
   "cell_type": "code",
   "execution_count": null,
   "metadata": {},
   "outputs": [],
   "source": [
    "ax = streets.plot(linewidth=0.5, color='grey', figsize=(15, 10))\n",
    "bike_stations.plot(ax=ax, markersize=15)\n",
    "ax.set_axis_off()"
   ]
  },
  {
   "cell_type": "code",
   "execution_count": null,
   "metadata": {
    "scrolled": true
   },
   "outputs": [],
   "source": [
    "ax = streets.plot(linewidth=0.5, column='highway', figsize=(15, 9))\n",
    "bike_stations.plot(ax=ax, column='bike_capacity', markersize=15)\n",
    "ax.set_axis_off()"
   ]
  },
  {
   "cell_type": "markdown",
   "metadata": {},
   "source": [
    "# Spatial Joins"
   ]
  },
  {
   "cell_type": "code",
   "execution_count": null,
   "metadata": {
    "collapsed": true
   },
   "outputs": [],
   "source": [
    "bike_stations = gp.sjoin(bike_stations, Metro_Areas[['NAME', 'geometry']]).copy()"
   ]
  },
  {
   "cell_type": "code",
   "execution_count": null,
   "metadata": {},
   "outputs": [],
   "source": [
    "bike_stations.head()"
   ]
  },
  {
   "cell_type": "markdown",
   "metadata": {
    "collapsed": true
   },
   "source": [
    "# Folium Intro \n",
    "\n",
    "1. Read & Write files\n"
   ]
  },
  {
   "cell_type": "code",
   "execution_count": null,
   "metadata": {},
   "outputs": [],
   "source": [
    "import folium\n",
    "import os\n",
    "from folium import plugins\n",
    "from folium.plugins import Draw\n",
    "import pandas as pd\n",
    "\n",
    "print(folium.__version__)"
   ]
  },
  {
   "cell_type": "code",
   "execution_count": null,
   "metadata": {},
   "outputs": [],
   "source": [
    "bike_stations_csv = pd.read_csv(\"/Users/Jaseibert/dev/Geospatial_Presentation/Chattanooga_BikeStationList.csv\")\n",
    "bike_df = pd.DataFrame(bike_stations_csv)"
   ]
  },
  {
   "cell_type": "code",
   "execution_count": null,
   "metadata": {},
   "outputs": [],
   "source": [
    "bike_df.head(5)"
   ]
  },
  {
   "cell_type": "code",
   "execution_count": null,
   "metadata": {},
   "outputs": [],
   "source": [
    "bike_df.isnull().sum()"
   ]
  },
  {
   "cell_type": "code",
   "execution_count": null,
   "metadata": {},
   "outputs": [],
   "source": [
    "#Combine the Lat & Long values into a location var\n",
    "location = bike_df[['latitude','longitude']]\n",
    "\n",
    "#Transform the NaN values into (0,0) \n",
    "#location.fillna(0, inplace=True)\n",
    "\n",
    "#Transform the location values into a list\n",
    "locationList = location.values.tolist()\n",
    "len(locationList)\n",
    "\n",
    "#check random var\n",
    "locationList[23]"
   ]
  },
  {
   "cell_type": "code",
   "execution_count": null,
   "metadata": {
    "collapsed": true
   },
   "outputs": [],
   "source": [
    "#Define initial map parameters\n",
    "Chat_Coordinates = (35.06, -85.31)"
   ]
  },
  {
   "cell_type": "code",
   "execution_count": null,
   "metadata": {},
   "outputs": [],
   "source": [
    "#Create empty map zoomed in on Chattanooga, TN\n",
    "map = folium.Map(location= Chat_Coordinates,tiles='CartoDB dark_matter', zoom_start=11)\n",
    "marker_cluster = folium.plugins.MarkerCluster().add_to(map)\n",
    "\n",
    "draw = Draw()\n",
    "draw.add_to(map)\n",
    "\n",
    "#Create a for loop & itterate through each store location \n",
    "for loc in range(0, len(locationList)):\n",
    "    folium.Marker(locationList[loc], popup=bike_df['name'][loc], icon=folium.Icon(color='green', icon_color='white', icon='info-sign')).add_to(marker_cluster)\n",
    "map.save(os.path.join(os.path.sep,'Users', 'Jaseibert', 'Dev', 'Geospatial_Presentation','results', 'BikeShareMarkerCluster.html'))\n",
    "map"
   ]
  },
  {
   "cell_type": "code",
   "execution_count": null,
   "metadata": {},
   "outputs": [],
   "source": [
    "Metro = pd.read_csv(\"/Users/Jaseibert/dev/Geospatial_Presentation/Combined_Metro_Data.csv\")\n",
    "Metro_df = pd.DataFrame(Metro)\n",
    "Metro_df.isnull().sum()"
   ]
  },
  {
   "cell_type": "code",
   "execution_count": 131,
   "metadata": {},
   "outputs": [
    {
     "data": {
      "text/plain": [
       "381"
      ]
     },
     "execution_count": 131,
     "metadata": {},
     "output_type": "execute_result"
    }
   ],
   "source": [
    "MetroLoc = Metro_df[['latitude','longitude']]\n",
    "MetroLocList = MetroLoc.values.tolist()\n",
    "len(MetroLocList)"
   ]
  },
  {
   "cell_type": "code",
   "execution_count": null,
   "metadata": {},
   "outputs": [],
   "source": []
  },
  {
   "cell_type": "code",
   "execution_count": null,
   "metadata": {
    "collapsed": true
   },
   "outputs": [],
   "source": []
  }
 ],
 "metadata": {
  "kernelspec": {
   "display_name": "Python 3",
   "language": "python",
   "name": "python3"
  },
  "language_info": {
   "codemirror_mode": {
    "name": "ipython",
    "version": 3
   },
   "file_extension": ".py",
   "mimetype": "text/x-python",
   "name": "python",
   "nbconvert_exporter": "python",
   "pygments_lexer": "ipython3",
   "version": "3.6.2"
  }
 },
 "nbformat": 4,
 "nbformat_minor": 2
}
